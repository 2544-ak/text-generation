{
 "cells": [
  {
   "cell_type": "code",
   "execution_count": 1,
   "metadata": {},
   "outputs": [
    {
     "name": "stdout",
     "output_type": "stream",
     "text": [
      "Saifa\n"
     ]
    }
   ],
   "source": [
    "print(\"Saifa\")"
   ]
  },
  {
   "cell_type": "code",
   "execution_count": 1,
   "metadata": {},
   "outputs": [
    {
     "name": "stdout",
     "output_type": "stream",
     "text": [
      "0\n",
      "1\n",
      "2\n",
      "3\n",
      "4\n",
      "5\n",
      "6\n",
      "7\n",
      "8\n",
      "9\n"
     ]
    }
   ],
   "source": [
    "for i in range(10):\n",
    "    print(i)"
   ]
  },
  {
   "cell_type": "code",
   "execution_count": 19,
   "metadata": {},
   "outputs": [
    {
     "name": "stdout",
     "output_type": "stream",
     "text": [
      "Requirement already satisfied: nltk in c:\\users\\saifa\\anaconda3\\lib\\site-packages (3.5)\n",
      "Requirement already satisfied: regex in c:\\users\\saifa\\anaconda3\\lib\\site-packages (from nltk) (2020.6.8)\n",
      "Requirement already satisfied: joblib in c:\\users\\saifa\\anaconda3\\lib\\site-packages (from nltk) (0.16.0)\n",
      "Requirement already satisfied: tqdm in c:\\users\\saifa\\anaconda3\\lib\\site-packages (from nltk) (4.47.0)\n",
      "Requirement already satisfied: click in c:\\users\\saifa\\anaconda3\\lib\\site-packages (from nltk) (7.1.2)\n",
      "Note: you may need to restart the kernel to use updated packages.\n"
     ]
    }
   ],
   "source": [
    "pip install nltk"
   ]
  },
  {
   "cell_type": "code",
   "execution_count": 20,
   "metadata": {},
   "outputs": [],
   "source": [
    "import nltk "
   ]
  },
  {
   "cell_type": "code",
   "execution_count": 21,
   "metadata": {},
   "outputs": [],
   "source": [
    "from nltk import word_tokenize, pos_tag, ne_chunk"
   ]
  },
  {
   "cell_type": "code",
   "execution_count": 22,
   "metadata": {},
   "outputs": [
    {
     "name": "stderr",
     "output_type": "stream",
     "text": [
      "[nltk_data] Downloading package words to\n",
      "[nltk_data]     C:\\Users\\Saifa\\AppData\\Roaming\\nltk_data...\n",
      "[nltk_data]   Package words is already up-to-date!\n"
     ]
    },
    {
     "data": {
      "text/plain": [
       "True"
      ]
     },
     "execution_count": 22,
     "metadata": {},
     "output_type": "execute_result"
    }
   ],
   "source": [
    "nltk.download('words')"
   ]
  },
  {
   "cell_type": "code",
   "execution_count": 5,
   "metadata": {},
   "outputs": [
    {
     "name": "stderr",
     "output_type": "stream",
     "text": [
      "[nltk_data] Downloading package averaged_perceptron_tagger to\n",
      "[nltk_data]     C:\\Users\\Saifa\\AppData\\Roaming\\nltk_data...\n",
      "[nltk_data]   Package averaged_perceptron_tagger is already up-to-\n",
      "[nltk_data]       date!\n"
     ]
    },
    {
     "data": {
      "text/plain": [
       "True"
      ]
     },
     "execution_count": 5,
     "metadata": {},
     "output_type": "execute_result"
    }
   ],
   "source": [
    "nltk.download('averaged_perceptron_tagger')"
   ]
  },
  {
   "cell_type": "code",
   "execution_count": 6,
   "metadata": {},
   "outputs": [
    {
     "name": "stderr",
     "output_type": "stream",
     "text": [
      "[nltk_data] Downloading package punkt to\n",
      "[nltk_data]     C:\\Users\\Saifa\\AppData\\Roaming\\nltk_data...\n",
      "[nltk_data]   Package punkt is already up-to-date!\n"
     ]
    },
    {
     "data": {
      "text/plain": [
       "True"
      ]
     },
     "execution_count": 6,
     "metadata": {},
     "output_type": "execute_result"
    }
   ],
   "source": [
    "nltk.download('punkt')"
   ]
  },
  {
   "cell_type": "code",
   "execution_count": 7,
   "metadata": {},
   "outputs": [
    {
     "name": "stdout",
     "output_type": "stream",
     "text": [
      "showing info https://raw.githubusercontent.com/nltk/nltk_data/gh-pages/index.xml\n"
     ]
    },
    {
     "data": {
      "text/plain": [
       "True"
      ]
     },
     "execution_count": 7,
     "metadata": {},
     "output_type": "execute_result"
    }
   ],
   "source": [
    "nltk.download()"
   ]
  },
  {
   "cell_type": "code",
   "execution_count": 8,
   "metadata": {},
   "outputs": [],
   "source": [
    "article = '''\n",
    "Asian shares skidded on Tuesday after a rout in tech stocks put Wall Street to the sword, while a \n",
    "sharp drop in oil prices and political risks in Europe pushed the dollar to 16-month highs as investors dumped \n",
    "riskier assets. MSCI’s broadest index of Asia-Pacific shares outside Japan dropped 1.7 percent to a 1-1/2 \n",
    "week trough, with Australian shares sinking 1.6 percent. Japan’s Nikkei dived 3.1 percent led by losses in \n",
    "electric machinery makers and suppliers of Apple’s iphone parts. Sterling fell to $1.286 after three straight \n",
    "sessions of losses took it to the lowest since Nov.1 as there were still considerable unresolved issues with the\n",
    "European Union over Brexit, British Prime Minister Theresa May said on Monday.'''"
   ]
  },
  {
   "cell_type": "code",
   "execution_count": 15,
   "metadata": {},
   "outputs": [
    {
     "data": {
      "text/plain": [
       "[('Asian', 'JJ'),\n",
       " ('shares', 'NNS'),\n",
       " ('skidded', 'VBN'),\n",
       " ('on', 'IN'),\n",
       " ('Tuesday', 'NNP'),\n",
       " ('after', 'IN'),\n",
       " ('a', 'DT'),\n",
       " ('rout', 'NN'),\n",
       " ('in', 'IN'),\n",
       " ('tech', 'JJ'),\n",
       " ('stocks', 'NNS'),\n",
       " ('put', 'VBD'),\n",
       " ('Wall', 'NNP'),\n",
       " ('Street', 'NNP'),\n",
       " ('to', 'TO'),\n",
       " ('the', 'DT'),\n",
       " ('sword', 'NN'),\n",
       " (',', ','),\n",
       " ('while', 'IN'),\n",
       " ('a', 'DT'),\n",
       " ('sharp', 'JJ'),\n",
       " ('drop', 'NN'),\n",
       " ('in', 'IN'),\n",
       " ('oil', 'NN'),\n",
       " ('prices', 'NNS'),\n",
       " ('and', 'CC'),\n",
       " ('political', 'JJ'),\n",
       " ('risks', 'NNS'),\n",
       " ('in', 'IN'),\n",
       " ('Europe', 'NNP'),\n",
       " ('pushed', 'VBD'),\n",
       " ('the', 'DT'),\n",
       " ('dollar', 'NN'),\n",
       " ('to', 'TO'),\n",
       " ('16-month', 'JJ'),\n",
       " ('highs', 'NNS'),\n",
       " ('as', 'IN'),\n",
       " ('investors', 'NNS'),\n",
       " ('dumped', 'VBD'),\n",
       " ('riskier', 'JJR'),\n",
       " ('assets', 'NNS'),\n",
       " ('.', '.'),\n",
       " ('MSCI', 'NNP'),\n",
       " ('’', 'NNP'),\n",
       " ('s', 'VBD'),\n",
       " ('broadest', 'JJS'),\n",
       " ('index', 'NN'),\n",
       " ('of', 'IN'),\n",
       " ('Asia-Pacific', 'NNP'),\n",
       " ('shares', 'NNS'),\n",
       " ('outside', 'IN'),\n",
       " ('Japan', 'NNP'),\n",
       " ('dropped', 'VBD'),\n",
       " ('1.7', 'CD'),\n",
       " ('percent', 'NN'),\n",
       " ('to', 'TO'),\n",
       " ('a', 'DT'),\n",
       " ('1-1/2', 'JJ'),\n",
       " ('week', 'NN'),\n",
       " ('trough', 'NN'),\n",
       " (',', ','),\n",
       " ('with', 'IN'),\n",
       " ('Australian', 'JJ'),\n",
       " ('shares', 'NNS'),\n",
       " ('sinking', 'VBG'),\n",
       " ('1.6', 'CD'),\n",
       " ('percent', 'NN'),\n",
       " ('.', '.'),\n",
       " ('Japan', 'NNP'),\n",
       " ('’', 'NNP'),\n",
       " ('s', 'VBD'),\n",
       " ('Nikkei', 'NNP'),\n",
       " ('dived', 'VBD'),\n",
       " ('3.1', 'CD'),\n",
       " ('percent', 'NN'),\n",
       " ('led', 'VBN'),\n",
       " ('by', 'IN'),\n",
       " ('losses', 'NNS'),\n",
       " ('in', 'IN'),\n",
       " ('electric', 'JJ'),\n",
       " ('machinery', 'NN'),\n",
       " ('makers', 'NNS'),\n",
       " ('and', 'CC'),\n",
       " ('suppliers', 'NNS'),\n",
       " ('of', 'IN'),\n",
       " ('Apple', 'NNP'),\n",
       " ('’', 'NNP'),\n",
       " ('s', 'VBD'),\n",
       " ('iphone', 'NN'),\n",
       " ('parts', 'NNS'),\n",
       " ('.', '.'),\n",
       " ('Sterling', 'NN'),\n",
       " ('fell', 'VBD'),\n",
       " ('to', 'TO'),\n",
       " ('$', '$'),\n",
       " ('1.286', 'CD'),\n",
       " ('after', 'IN'),\n",
       " ('three', 'CD'),\n",
       " ('straight', 'JJ'),\n",
       " ('sessions', 'NNS'),\n",
       " ('of', 'IN'),\n",
       " ('losses', 'NNS'),\n",
       " ('took', 'VBD'),\n",
       " ('it', 'PRP'),\n",
       " ('to', 'TO'),\n",
       " ('the', 'DT'),\n",
       " ('lowest', 'JJS'),\n",
       " ('since', 'IN'),\n",
       " ('Nov.1', 'NNP'),\n",
       " ('as', 'IN'),\n",
       " ('there', 'EX'),\n",
       " ('were', 'VBD'),\n",
       " ('still', 'RB'),\n",
       " ('considerable', 'JJ'),\n",
       " ('unresolved', 'JJ'),\n",
       " ('issues', 'NNS'),\n",
       " ('with', 'IN'),\n",
       " ('the', 'DT'),\n",
       " ('European', 'NNP'),\n",
       " ('Union', 'NNP'),\n",
       " ('over', 'IN'),\n",
       " ('Brexit', 'NNP'),\n",
       " (',', ','),\n",
       " ('British', 'NNP'),\n",
       " ('Prime', 'NNP'),\n",
       " ('Minister', 'NNP'),\n",
       " ('Theresa', 'NNP'),\n",
       " ('May', 'NNP'),\n",
       " ('said', 'VBD'),\n",
       " ('on', 'IN'),\n",
       " ('Monday', 'NNP'),\n",
       " ('.', '.')]"
      ]
     },
     "execution_count": 15,
     "metadata": {},
     "output_type": "execute_result"
    }
   ],
   "source": [
    "def fn_preprocessor(art):\n",
    "    art = nltk.word_tokenize(art)\n",
    "    art = nltk.pos_tag(art)\n",
    "    return art\n",
    "\n",
    "art_processed = fn_preprocessor(article)\n",
    "art_processed"
   ]
  },
  {
   "cell_type": "code",
   "execution_count": 16,
   "metadata": {},
   "outputs": [],
   "source": [
    "result = ne_chunk(art_processed)\n"
   ]
  },
  {
   "cell_type": "code",
   "execution_count": 18,
   "metadata": {},
   "outputs": [
    {
     "name": "stdout",
     "output_type": "stream",
     "text": [
      "  shares/NNS\n",
      "  Tuesday/NNP\n",
      "  rout/NN\n",
      "  stocks/NNS\n",
      "  (FACILITY Wall/NNP Street/NNP)\n",
      "  sword/NN\n",
      "  drop/NN\n",
      "  oil/NN\n",
      "  prices/NNS\n",
      "  risks/NNS\n",
      "  (GPE Europe/NNP)\n",
      "  dollar/NN\n",
      "  highs/NNS\n",
      "  investors/NNS\n",
      "  assets/NNS\n",
      "  (ORGANIZATION MSCI/NNP)\n",
      "  ’/NNP\n",
      "  index/NN\n",
      "  Asia-Pacific/NNP\n",
      "  shares/NNS\n",
      "  (GPE Japan/NNP)\n",
      "  percent/NN\n",
      "  week/NN\n",
      "  trough/NN\n",
      "  shares/NNS\n",
      "  percent/NN\n",
      "  (PERSON Japan/NNP)\n",
      "  ’/NNP\n",
      "  (PERSON Nikkei/NNP)\n",
      "  percent/NN\n",
      "  losses/NNS\n",
      "  machinery/NN\n",
      "  makers/NNS\n",
      "  suppliers/NNS\n",
      "  (PERSON Apple/NNP)\n",
      "  ’/NNP\n",
      "  iphone/NN\n",
      "  parts/NNS\n",
      "  (PERSON Sterling/NN)\n",
      "  sessions/NNS\n",
      "  losses/NNS\n",
      "  Nov.1/NNP\n",
      "  issues/NNS\n",
      "  (ORGANIZATION European/NNP Union/NNP)\n",
      "  (GPE Brexit/NNP)\n",
      "  (GPE British/NNP)\n",
      "  Prime/NNP\n",
      "  Minister/NNP\n",
      "  (PERSON Theresa/NNP May/NNP)\n",
      "  Monday/NNP\n"
     ]
    }
   ],
   "source": [
    "for x in str(result).split('\\n'):\n",
    "    if 'NN' in x:\n",
    "        print(x)"
   ]
  },
  {
   "cell_type": "code",
   "execution_count": null,
   "metadata": {},
   "outputs": [],
   "source": []
  }
 ],
 "metadata": {
  "kernelspec": {
   "display_name": "Python 3",
   "language": "python",
   "name": "python3"
  },
  "language_info": {
   "codemirror_mode": {
    "name": "ipython",
    "version": 3
   },
   "file_extension": ".py",
   "mimetype": "text/x-python",
   "name": "python",
   "nbconvert_exporter": "python",
   "pygments_lexer": "ipython3",
   "version": "3.8.3"
  }
 },
 "nbformat": 4,
 "nbformat_minor": 2
}
